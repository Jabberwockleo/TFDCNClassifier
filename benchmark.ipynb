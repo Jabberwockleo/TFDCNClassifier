{
 "cells": [
  {
   "cell_type": "code",
   "execution_count": 3,
   "metadata": {},
   "outputs": [
    {
     "name": "stdout",
     "output_type": "stream",
     "text": [
      "WARNING:tensorflow:From <ipython-input-3-d418ec13e30c>:10: read_data_sets (from tensorflow.contrib.learn.python.learn.datasets.mnist) is deprecated and will be removed in a future version.\n",
      "Instructions for updating:\n",
      "Please use alternatives such as official/mnist/dataset.py from tensorflow/models.\n",
      "WARNING:tensorflow:From /home/work/anaconda3/envs/tensorflow_gpuenv/lib/python3.6/site-packages/tensorflow/contrib/learn/python/learn/datasets/mnist.py:260: maybe_download (from tensorflow.contrib.learn.python.learn.datasets.base) is deprecated and will be removed in a future version.\n",
      "Instructions for updating:\n",
      "Please write your own downloading logic.\n",
      "WARNING:tensorflow:From /home/work/anaconda3/envs/tensorflow_gpuenv/lib/python3.6/site-packages/tensorflow/contrib/learn/python/learn/datasets/mnist.py:262: extract_images (from tensorflow.contrib.learn.python.learn.datasets.mnist) is deprecated and will be removed in a future version.\n",
      "Instructions for updating:\n",
      "Please use tf.data to implement this functionality.\n",
      "Extracting MNIST_data/train-images-idx3-ubyte.gz\n",
      "WARNING:tensorflow:From /home/work/anaconda3/envs/tensorflow_gpuenv/lib/python3.6/site-packages/tensorflow/contrib/learn/python/learn/datasets/mnist.py:267: extract_labels (from tensorflow.contrib.learn.python.learn.datasets.mnist) is deprecated and will be removed in a future version.\n",
      "Instructions for updating:\n",
      "Please use tf.data to implement this functionality.\n",
      "Extracting MNIST_data/train-labels-idx1-ubyte.gz\n",
      "Extracting MNIST_data/t10k-images-idx3-ubyte.gz\n",
      "Extracting MNIST_data/t10k-labels-idx1-ubyte.gz\n",
      "WARNING:tensorflow:From /home/work/anaconda3/envs/tensorflow_gpuenv/lib/python3.6/site-packages/tensorflow/contrib/learn/python/learn/datasets/mnist.py:290: DataSet.__init__ (from tensorflow.contrib.learn.python.learn.datasets.mnist) is deprecated and will be removed in a future version.\n",
      "Instructions for updating:\n",
      "Please use alternatives such as official/mnist/dataset.py from tensorflow/models.\n",
      "Dataset shape: (10625, 784)\n",
      "Non-zeros rate: 0.04029\n",
      "Classes balance: 0.469 / 0.531\n"
     ]
    }
   ],
   "source": [
    "# Dataset\n",
    "import numpy as np\n",
    "\n",
    "from tensorflow.examples.tutorials.mnist import input_data\n",
    "from sklearn.datasets import fetch_mldata\n",
    "from sklearn.preprocessing import scale\n",
    "from sklearn.model_selection import train_test_split\n",
    "from sklearn.metrics import roc_auc_score, accuracy_score\n",
    "\n",
    "mnist = input_data.read_data_sets(\"MNIST_data/\")\n",
    "\n",
    "mnist_images = mnist.train.images\n",
    "mnist_labels = mnist.train.labels\n",
    "\n",
    "n_three, n_five = sum(mnist_labels==3), sum(mnist_labels==5)\n",
    "\n",
    "X_all = np.vstack([\n",
    "    mnist_images[mnist_labels==3,:],\n",
    "    mnist_images[mnist_labels==5,:]\n",
    "])\n",
    "\n",
    "y_all = np.array([1]*n_three + [0]*n_five)\n",
    "# make it more sparse\n",
    "X_all = X_all * (np.random.uniform(0, 1, X_all.shape) > 0.8)\n",
    "\n",
    "print('Dataset shape: {}'.format(X_all.shape))\n",
    "print('Non-zeros rate: {:.05f}'.format(np.mean(X_all != 0)))\n",
    "print('Classes balance: {:.03f} / {:.03f}'.format(np.mean(y_all==0), np.mean(y_all==1)))\n",
    "\n",
    "X_tr, X_te, y_tr, y_te = train_test_split(X_all, y_all, random_state=42, test_size=0.3)"
   ]
  },
  {
   "cell_type": "code",
   "execution_count": 4,
   "metadata": {},
   "outputs": [
    {
     "name": "stderr",
     "output_type": "stream",
     "text": [
      "/home/work/anaconda3/envs/tensorflow_gpuenv/lib/python3.6/site-packages/sklearn/linear_model/logistic.py:432: FutureWarning: Default solver will be changed to 'lbfgs' in 0.22. Specify a solver to silence this warning.\n",
      "  FutureWarning)\n"
     ]
    },
    {
     "name": "stdout",
     "output_type": "stream",
     "text": [
      "model: LogisticRegression(C=1.0, class_weight=None, dual=False, fit_intercept=True,\n",
      "          intercept_scaling=1, max_iter=100, multi_class='warn',\n",
      "          n_jobs=None, penalty='l2', random_state=None, solver='warn',\n",
      "          tol=0.0001, verbose=0, warm_start=False)\n",
      "accuracy: 0.8720200752823086\n",
      "\n",
      "model: RandomForestClassifier(bootstrap=True, class_weight=None, criterion='gini',\n",
      "            max_depth=None, max_features='auto', max_leaf_nodes=None,\n",
      "            min_impurity_decrease=0.0, min_impurity_split=None,\n",
      "            min_samples_leaf=1, min_samples_split=2,\n",
      "            min_weight_fraction_leaf=0.0, n_estimators=200, n_jobs=-1,\n",
      "            oob_score=False, random_state=None, verbose=0,\n",
      "            warm_start=False)\n",
      "accuracy: 0.8823713927227101\n",
      "\n"
     ]
    }
   ],
   "source": [
    "# Baseline\n",
    "from sklearn.linear_model import LogisticRegression\n",
    "from sklearn.ensemble import RandomForestClassifier\n",
    "for model in [\n",
    "    LogisticRegression(), \n",
    "    RandomForestClassifier(n_jobs=-1, n_estimators=200)]:\n",
    "    model.fit(X_tr, y_tr)\n",
    "    predictions = model.predict(X_te)\n",
    "    acc = accuracy_score(y_te, predictions)\n",
    "    print('model: {}'.format(model.__str__()))\n",
    "    print('accuracy: {}'.format(acc))\n",
    "    print()"
   ]
  },
  {
   "cell_type": "code",
   "execution_count": 5,
   "metadata": {},
   "outputs": [],
   "source": [
    "# TFFM svmlight-API\n",
    "# convert data to svmlight format\n",
    "from sklearn.datasets import dump_svmlight_file\n",
    "from sklearn.model_selection import train_test_split\n",
    "fname = './dump_svmlight.txt'\n",
    "feature_num=X_all.shape[1]\n",
    "dump_svmlight_file(X_all, y_all, fname)\n",
    "\n",
    "import utils\n",
    "X_cid_all, y_cid_all = utils.read_zipped_column_indexed_data_from_svmlight_file(fname)\n",
    "X_cid_tr, X_cid_te, y_cid_tr, y_cid_te = train_test_split(X_cid_all, y_cid_all, random_state=42, test_size=0.3)\n",
    "\n",
    "X_ind_tr, X_val_tr, y_cid_tr = utils.convert_to_column_indexed_data(X_cid_tr, y_cid_tr)\n",
    "X_ind_te, X_val_te, y_cid_te = utils.convert_to_column_indexed_data(X_cid_te, y_cid_te)\n",
    "\n",
    "X_ind_tr, X_val_tr, y_cid_tr = utils.convert_to_fully_column_indexed_data(\n",
    "    X_ind_tr, X_val_tr, y_cid_tr, feature_num=feature_num)\n",
    "X_ind_te, X_val_te, y_cid_te = utils.convert_to_fully_column_indexed_data(\n",
    "    X_ind_te, X_val_te, y_cid_te, feature_num=feature_num)"
   ]
  },
  {
   "cell_type": "code",
   "execution_count": 6,
   "metadata": {},
   "outputs": [
    {
     "name": "stdout",
     "output_type": "stream",
     "text": [
      "tensorboard --logdir=/tmp/tflog --port 8080\n",
      "epoch: 1, global_step: 1000, loss: 7.309720516204834\n",
      "epoch: 2, global_step: 2000, loss: 2.74855375289917\n",
      "epoch: 4, global_step: 3000, loss: 2.140005588531494\n",
      "epoch: 5, global_step: 4000, loss: 3.6104345321655273\n",
      "epoch: 6, global_step: 5000, loss: 4.040725231170654\n",
      "epoch: 8, global_step: 6000, loss: 3.1432952880859375\n",
      "epoch: 9, global_step: 7000, loss: 1.6553311347961426\n",
      "model: <tfdcnclassifier_column_indexed.TFDCNClassifier object at 0x7f48aab55f28>\n",
      "train accuracy: 0.9147505714669893\n",
      "test accuracy: 0.8726474278544541\n"
     ]
    }
   ],
   "source": [
    "# TFFM svmlight-API\n",
    "import os\n",
    "os.environ[\"CUDA_VISIBLE_DEVICES\"]=\"3\"\n",
    "\n",
    "import tfdcnclassifier_column_indexed\n",
    "import imp\n",
    "tfdcnclassifier_column_indexed = imp.reload(tfdcnclassifier_column_indexed)\n",
    "for model in [tfdcnclassifier_column_indexed.TFDCNClassifier(\n",
    "    feature_num=X_all.shape[1], # feature num must set\n",
    "    field_num=X_all.shape[1], # field num must set\n",
    "    factor_num=10,\n",
    "    deep_layer_nodes=[10, 10],\n",
    "    cross_layer_num=1,\n",
    "    l2_weight=0.01, learning_rate=1e-2,\n",
    "    batch_size=10, epoch_num=10, print_step=1000, random_seed=42)]:\n",
    "    model.fit(np.array(X_ind_tr), np.array(X_val_tr), np.array(y_cid_tr))\n",
    "    predictions = model.predict(np.array(X_ind_te), np.array(X_val_te))\n",
    "    acc = accuracy_score(np.array(y_cid_te), predictions)\n",
    "    print('model: {}'.format(model.__str__()))\n",
    "    print('train accuracy: {}'.format(accuracy_score(np.array(y_cid_tr), model.predict(np.array(X_ind_tr), np.array(X_val_tr)))))\n",
    "    print('test accuracy: {}'.format(acc))"
   ]
  },
  {
   "cell_type": "code",
   "execution_count": null,
   "metadata": {},
   "outputs": [],
   "source": []
  }
 ],
 "metadata": {
  "kernelspec": {
   "display_name": "Python 3",
   "language": "python",
   "name": "python3"
  },
  "language_info": {
   "codemirror_mode": {
    "name": "ipython",
    "version": 3
   },
   "file_extension": ".py",
   "mimetype": "text/x-python",
   "name": "python",
   "nbconvert_exporter": "python",
   "pygments_lexer": "ipython3",
   "version": "3.6.6"
  }
 },
 "nbformat": 4,
 "nbformat_minor": 2
}
